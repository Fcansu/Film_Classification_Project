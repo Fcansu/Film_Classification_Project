{
  "nbformat": 4,
  "nbformat_minor": 0,
  "metadata": {
    "colab": {
      "provenance": [],
      "mount_file_id": "18LxIoCkPoJe48nbe9HhuKGweG8zjO6hv",
      "authorship_tag": "ABX9TyMebiFx1l5YtPqOBqH64snu",
      "include_colab_link": true
    },
    "kernelspec": {
      "name": "python3",
      "display_name": "Python 3"
    },
    "language_info": {
      "name": "python"
    }
  },
  "cells": [
    {
      "cell_type": "markdown",
      "metadata": {
        "id": "view-in-github",
        "colab_type": "text"
      },
      "source": [
        "<a href=\"https://colab.research.google.com/github/Fcansu/Film_Classification_Project/blob/main/model.ipynb\" target=\"_parent\"><img src=\"https://colab.research.google.com/assets/colab-badge.svg\" alt=\"Open In Colab\"/></a>"
      ]
    },
    {
      "cell_type": "code",
      "execution_count": 81,
      "metadata": {
        "id": "MQKCd0o1kmr1"
      },
      "outputs": [],
      "source": [
        "import tensorflow as tf"
      ]
    },
    {
      "cell_type": "code",
      "source": [
        "from tensorflow.keras import Sequential\n",
        "from tensorflow.keras.layers import Dense, Flatten, Conv2D, MaxPooling2D, BatchNormalization, Dropout"
      ],
      "metadata": {
        "id": "hIHtb-Zbmhb7"
      },
      "execution_count": 82,
      "outputs": []
    },
    {
      "cell_type": "code",
      "source": [
        "from tensorflow.keras.optimizers import Adam\n",
        "from tensorflow.keras.preprocessing import image"
      ],
      "metadata": {
        "id": "oDWJPwH2oCGX"
      },
      "execution_count": 83,
      "outputs": []
    },
    {
      "cell_type": "code",
      "source": [
        "print(tf.__version__)"
      ],
      "metadata": {
        "colab": {
          "base_uri": "https://localhost:8080/"
        },
        "id": "oaGMmgHQoW0q",
        "outputId": "54f15fc2-377d-44f5-9ee3-d3a4cc6f6fce"
      },
      "execution_count": 84,
      "outputs": [
        {
          "output_type": "stream",
          "name": "stdout",
          "text": [
            "2.17.1\n"
          ]
        }
      ]
    },
    {
      "cell_type": "code",
      "source": [
        "import numpy as np\n",
        "import pandas as pd\n",
        "import matplotlib.pyplot as plt"
      ],
      "metadata": {
        "id": "hZXFJPWbokLF"
      },
      "execution_count": 85,
      "outputs": []
    },
    {
      "cell_type": "code",
      "source": [
        "from sklearn.model_selection import train_test_split\n",
        "from tqdm import tqdm"
      ],
      "metadata": {
        "id": "cBm0KO34o_3d"
      },
      "execution_count": 86,
      "outputs": []
    },
    {
      "cell_type": "code",
      "source": [
        "tf.data.Dataset"
      ],
      "metadata": {
        "id": "W100Fo633aGl",
        "colab": {
          "base_uri": "https://localhost:8080/",
          "height": 186
        },
        "outputId": "7537f7e4-d840-4ff2-99d1-c6028748247e"
      },
      "execution_count": 87,
      "outputs": [
        {
          "output_type": "execute_result",
          "data": {
            "text/plain": [
              "tensorflow.python.data.ops.dataset_ops.DatasetV2"
            ],
            "text/html": [
              "<div style=\"max-width:800px; border: 1px solid var(--colab-border-color);\"><style>\n",
              "      pre.function-repr-contents {\n",
              "        overflow-x: auto;\n",
              "        padding: 8px 12px;\n",
              "        max-height: 500px;\n",
              "      }\n",
              "\n",
              "      pre.function-repr-contents.function-repr-contents-collapsed {\n",
              "        cursor: pointer;\n",
              "        max-height: 100px;\n",
              "      }\n",
              "    </style>\n",
              "    <pre style=\"white-space: initial; background:\n",
              "         var(--colab-secondary-surface-color); padding: 8px 12px;\n",
              "         border-bottom: 1px solid var(--colab-border-color);\"><b>tensorflow.python.data.ops.dataset_ops.DatasetV2</b><br/>def __init__(variant_tensor)</pre><pre class=\"function-repr-contents function-repr-contents-collapsed\" style=\"\"><a class=\"filepath\" style=\"display:none\" href=\"#\">/usr/local/lib/python3.10/dist-packages/tensorflow/python/data/ops/dataset_ops.py</a>Represents a potentially large set of elements.\n",
              "\n",
              "The `tf.data.Dataset` API supports writing descriptive and efficient input\n",
              "pipelines. `Dataset` usage follows a common pattern:\n",
              "\n",
              "1. Create a source dataset from your input data.\n",
              "2. Apply dataset transformations to preprocess the data.\n",
              "3. Iterate over the dataset and process the elements.\n",
              "\n",
              "Iteration happens in a streaming fashion, so the full dataset does not need to\n",
              "fit into memory.\n",
              "\n",
              "Source Datasets:\n",
              "\n",
              "The simplest way to create a dataset is to create it from a python `list`:\n",
              "\n",
              "&gt;&gt;&gt; dataset = tf.data.Dataset.from_tensor_slices([1, 2, 3])\n",
              "&gt;&gt;&gt; for element in dataset:\n",
              "...   print(element)\n",
              "tf.Tensor(1, shape=(), dtype=int32)\n",
              "tf.Tensor(2, shape=(), dtype=int32)\n",
              "tf.Tensor(3, shape=(), dtype=int32)\n",
              "\n",
              "To process lines from files, use `tf.data.TextLineDataset`:\n",
              "\n",
              "&gt;&gt;&gt; dataset = tf.data.TextLineDataset([&quot;file1.txt&quot;, &quot;file2.txt&quot;])\n",
              "\n",
              "To process records written in the `TFRecord` format, use `TFRecordDataset`:\n",
              "\n",
              "&gt;&gt;&gt; dataset = tf.data.TFRecordDataset([&quot;file1.tfrecords&quot;, &quot;file2.tfrecords&quot;])\n",
              "\n",
              "To create a dataset of all files matching a pattern, use\n",
              "`tf.data.Dataset.list_files`:\n",
              "\n",
              "```python\n",
              "dataset = tf.data.Dataset.list_files(&quot;/path/*.txt&quot;)\n",
              "```\n",
              "\n",
              "See `tf.data.FixedLengthRecordDataset` and `tf.data.Dataset.from_generator`\n",
              "for more ways to create datasets.\n",
              "\n",
              "Transformations:\n",
              "\n",
              "Once you have a dataset, you can apply transformations to prepare the data for\n",
              "your model:\n",
              "\n",
              "&gt;&gt;&gt; dataset = tf.data.Dataset.from_tensor_slices([1, 2, 3])\n",
              "&gt;&gt;&gt; dataset = dataset.map(lambda x: x*2)\n",
              "&gt;&gt;&gt; list(dataset.as_numpy_iterator())\n",
              "[2, 4, 6]\n",
              "\n",
              "Common Terms:\n",
              "\n",
              "**Element**: A single output from calling `next()` on a dataset iterator.\n",
              "  Elements may be nested structures containing multiple components. For\n",
              "  example, the element `(1, (3, &quot;apple&quot;))` has one tuple nested in another\n",
              "  tuple. The components are `1`, `3`, and `&quot;apple&quot;`.\n",
              "\n",
              "**Component**: The leaf in the nested structure of an element.\n",
              "\n",
              "Supported types:\n",
              "\n",
              "Elements can be nested structures of tuples, named tuples, and dictionaries.\n",
              "Note that Python lists are *not* treated as nested structures of components.\n",
              "Instead, lists are converted to tensors and treated as components. For\n",
              "example, the element `(1, [1, 2, 3])` has only two components; the tensor `1`\n",
              "and the tensor `[1, 2, 3]`. Element components can be of any type\n",
              "representable by `tf.TypeSpec`, including `tf.Tensor`, `tf.data.Dataset`,\n",
              "`tf.sparse.SparseTensor`, `tf.RaggedTensor`, and `tf.TensorArray`.\n",
              "\n",
              "```python\n",
              "a = 1 # Integer element\n",
              "b = 2.0 # Float element\n",
              "c = (1, 2) # Tuple element with 2 components\n",
              "d = {&quot;a&quot;: (2, 2), &quot;b&quot;: 3} # Dict element with 3 components\n",
              "Point = collections.namedtuple(&quot;Point&quot;, [&quot;x&quot;, &quot;y&quot;])\n",
              "e = Point(1, 2) # Named tuple\n",
              "f = tf.data.Dataset.range(10) # Dataset element\n",
              "```\n",
              "\n",
              "For more information,\n",
              "read [this guide](https://www.tensorflow.org/guide/data).</pre>\n",
              "      <script>\n",
              "      if (google.colab.kernel.accessAllowed && google.colab.files && google.colab.files.view) {\n",
              "        for (const element of document.querySelectorAll('.filepath')) {\n",
              "          element.style.display = 'block'\n",
              "          element.onclick = (event) => {\n",
              "            event.preventDefault();\n",
              "            event.stopPropagation();\n",
              "            google.colab.files.view(element.textContent, 136);\n",
              "          };\n",
              "        }\n",
              "      }\n",
              "      for (const element of document.querySelectorAll('.function-repr-contents')) {\n",
              "        element.onclick = (event) => {\n",
              "          event.preventDefault();\n",
              "          event.stopPropagation();\n",
              "          element.classList.toggle('function-repr-contents-collapsed');\n",
              "        };\n",
              "      }\n",
              "      </script>\n",
              "      </div>"
            ]
          },
          "metadata": {},
          "execution_count": 87
        }
      ]
    },
    {
      "cell_type": "code",
      "source": [
        "dataset = tf.data.Dataset.list_files(\"/content/ZiriCin\")"
      ],
      "metadata": {
        "id": "KRafuemxeI0C"
      },
      "execution_count": 88,
      "outputs": []
    },
    {
      "source": [
        "dataset = tf.keras.preprocessing.image_dataset_from_directory(\n",
        "    '/content/ZiriCin',\n",
        "    labels=None # Since there's only one class and all the images are in a single directory\n",
        ")"
      ],
      "cell_type": "code",
      "metadata": {
        "colab": {
          "base_uri": "https://localhost:8080/"
        },
        "id": "mUi3Suuofp7N",
        "outputId": "b2facac7-ac0c-458f-914c-3fbb5e11a738"
      },
      "execution_count": 89,
      "outputs": [
        {
          "output_type": "stream",
          "name": "stdout",
          "text": [
            "Found 49 files.\n"
          ]
        }
      ]
    },
    {
      "cell_type": "code",
      "source": [
        "import os\n"
      ],
      "metadata": {
        "id": "rOsMKKvdPcWh"
      },
      "execution_count": 90,
      "outputs": []
    },
    {
      "cell_type": "code",
      "source": [
        "os.path.join('/content/ZiriCin')"
      ],
      "metadata": {
        "colab": {
          "base_uri": "https://localhost:8080/",
          "height": 36
        },
        "id": "C7KefKRrPwYf",
        "outputId": "f6ada7f4-cbd7-4f6f-961f-4538ae86c7d9"
      },
      "execution_count": 91,
      "outputs": [
        {
          "output_type": "execute_result",
          "data": {
            "text/plain": [
              "'/content/ZiriCin'"
            ],
            "application/vnd.google.colaboratory.intrinsic+json": {
              "type": "string"
            }
          },
          "metadata": {},
          "execution_count": 91
        }
      ]
    },
    {
      "cell_type": "code",
      "source": [
        "os.listdir('/content/ZiriCin')"
      ],
      "metadata": {
        "colab": {
          "base_uri": "https://localhost:8080/"
        },
        "id": "RRYo5qKBP93R",
        "outputId": "a3cdc85f-48ba-488d-bb7b-8196443791df"
      },
      "execution_count": 92,
      "outputs": [
        {
          "output_type": "execute_result",
          "data": {
            "text/plain": [
              "['ZiriCin_1min_0sec.jpg',\n",
              " 'ZiriCin_0min_34sec.jpg',\n",
              " 'ZiriCin_1min_36sec.jpg',\n",
              " 'ZiriCin_0min_48sec.jpg',\n",
              " 'ZiriCin_0min_52sec.jpg',\n",
              " 'ZiriCin_0min_20sec.jpg',\n",
              " 'ZiriCin_0min_14sec.jpg',\n",
              " 'ZiriCin_0min_26sec.jpg',\n",
              " 'ZiriCin_0min_44sec.jpg',\n",
              " 'ZiriCin_0min_22sec.jpg',\n",
              " 'ZiriCin_1min_10sec.jpg',\n",
              " 'ZiriCin_0min_12sec.jpg',\n",
              " 'ZiriCin_0min_50sec.jpg',\n",
              " 'ZiriCin_1min_2sec.jpg',\n",
              " 'ZiriCin_1min_14sec.jpg',\n",
              " 'ZiriCin_0min_28sec.jpg',\n",
              " 'ZiriCin_0min_46sec.jpg',\n",
              " 'ZiriCin_0min_36sec.jpg',\n",
              " 'ZiriCin_0min_10sec.jpg',\n",
              " 'ZiriCin_0min_24sec.jpg',\n",
              " 'ZiriCin_1min_12sec.jpg',\n",
              " 'ZiriCin_1min_34sec.jpg',\n",
              " 'ZiriCin_0min_18sec.jpg',\n",
              " 'ZiriCin_0min_42sec.jpg',\n",
              " 'ZiriCin_1min_4sec.jpg',\n",
              " 'ZiriCin_0min_0sec.jpg',\n",
              " 'ZiriCin_0min_16sec.jpg',\n",
              " 'ZiriCin_1min_20sec.jpg',\n",
              " 'ZiriCin_1min_22sec.jpg',\n",
              " 'ZiriCin_1min_6sec.jpg',\n",
              " 'ZiriCin_0min_40sec.jpg',\n",
              " 'ZiriCin_0min_54sec.jpg',\n",
              " 'ZiriCin_1min_16sec.jpg',\n",
              " 'ZiriCin_0min_32sec.jpg',\n",
              " 'ZiriCin_0min_2sec.jpg',\n",
              " 'ZiriCin_1min_26sec.jpg',\n",
              " 'ZiriCin_1min_30sec.jpg',\n",
              " 'ZiriCin_0min_8sec.jpg',\n",
              " 'ZiriCin_0min_6sec.jpg',\n",
              " 'ZiriCin_1min_18sec.jpg',\n",
              " 'ZiriCin_1min_28sec.jpg',\n",
              " 'ZiriCin_0min_38sec.jpg',\n",
              " 'ZiriCin_1min_8sec.jpg',\n",
              " 'ZiriCin_0min_4sec.jpg',\n",
              " 'ZiriCin_0min_58sec.jpg',\n",
              " 'ZiriCin_1min_32sec.jpg',\n",
              " 'ZiriCin_1min_24sec.jpg',\n",
              " 'ZiriCin_0min_30sec.jpg',\n",
              " 'ZiriCin_0min_56sec.jpg']"
            ]
          },
          "metadata": {},
          "execution_count": 92
        }
      ]
    },
    {
      "cell_type": "code",
      "source": [
        "import cv2\n",
        "\n",
        "img = cv2.imread(os.path.join('ZiriCin','ZiriCin_0min_44sec.jpg'))"
      ],
      "metadata": {
        "id": "93gZ4GsdTGJj"
      },
      "execution_count": 93,
      "outputs": []
    },
    {
      "cell_type": "code",
      "source": [
        "img.shape"
      ],
      "metadata": {
        "colab": {
          "base_uri": "https://localhost:8080/"
        },
        "id": "SMe4XOJ3TjYC",
        "outputId": "7f0d6867-0ca0-49f3-fe75-0df3651c0326"
      },
      "execution_count": 94,
      "outputs": [
        {
          "output_type": "execute_result",
          "data": {
            "text/plain": [
              "(272, 640, 3)"
            ]
          },
          "metadata": {},
          "execution_count": 94
        }
      ]
    },
    {
      "cell_type": "code",
      "source": [
        "plt.imshow(img)"
      ],
      "metadata": {
        "colab": {
          "base_uri": "https://localhost:8080/",
          "height": 294
        },
        "id": "YWNY62nsTrL5",
        "outputId": "06d61b8e-614f-4e8d-cacb-304b43941ac7"
      },
      "execution_count": 95,
      "outputs": [
        {
          "output_type": "execute_result",
          "data": {
            "text/plain": [
              "<matplotlib.image.AxesImage at 0x7b1f689b6ef0>"
            ]
          },
          "metadata": {},
          "execution_count": 95
        },
        {
          "output_type": "display_data",
          "data": {
            "text/plain": [
              "<Figure size 640x480 with 1 Axes>"
            ],
            "image/png": "[encoded data removed]"
          },
          "metadata": {}
        }
      ]
    },
    {
      "cell_type": "markdown",
      "source": [
        "## Preprocessing data"
      ],
      "metadata": {
        "id": "fmxxGcZHj_FW"
      }
    },
    {
      "cell_type": "code",
      "source": [
        "from tensorflow.keras.preprocessing.image import ImageDataGenerator\n",
        "\n",
        "# Ölçeklendirme için bir nesne oluşturma\n",
        "datagen = ImageDataGenerator(rescale=1./255)\n",
        "\n",
        "# Veri dizininden görüntüleri yükleme ve ölçeklendirme\n",
        "train_generator = datagen.flow_from_directory(\n",
        "        'ZiriCin',  # Eğitim verisi dizini\n",
        "        target_size=(150, 150),  # Tüm görüntüleri aynı boyuta getir\n",
        "        batch_size=32,\n",
        "        class_mode='binary'  # İkili sınıflandırma için\n",
        ")"
      ],
      "metadata": {
        "colab": {
          "base_uri": "https://localhost:8080/"
        },
        "id": "2P-za8EOoKVI",
        "outputId": "cd7941f1-06da-41fa-e7c2-77e7133be42d"
      },
      "execution_count": 118,
      "outputs": [
        {
          "output_type": "stream",
          "name": "stdout",
          "text": [
            "Found 0 images belonging to 0 classes.\n"
          ]
        }
      ]
    },
    {
      "source": [
        "data_iterator = dataset.as_numpy_iterator() # Recreate the iterator\n",
        "batch = data_iterator.next() # Now you can fetch a batch"
      ],
      "cell_type": "code",
      "metadata": {
        "id": "nZ4KnrZ3ha7e"
      },
      "execution_count": 96,
      "outputs": []
    },
    {
      "cell_type": "code",
      "source": [
        "batch[0].shape"
      ],
      "metadata": {
        "colab": {
          "base_uri": "https://localhost:8080/"
        },
        "collapsed": true,
        "id": "uWgo2meTg6gj",
        "outputId": "4cd369da-2fe1-4163-8c99-6ca097ec151a"
      },
      "execution_count": 97,
      "outputs": [
        {
          "output_type": "execute_result",
          "data": {
            "text/plain": [
              "(256, 256, 3)"
            ]
          },
          "metadata": {},
          "execution_count": 97
        }
      ]
    },
    {
      "cell_type": "code",
      "source": [
        "len(batch)"
      ],
      "metadata": {
        "colab": {
          "base_uri": "https://localhost:8080/"
        },
        "id": "Dh4sIe0chyBh",
        "outputId": "8e930c37-40ff-4a91-a509-9a6eead75faa"
      },
      "execution_count": 98,
      "outputs": [
        {
          "output_type": "execute_result",
          "data": {
            "text/plain": [
              "32"
            ]
          },
          "metadata": {},
          "execution_count": 98
        }
      ]
    },
    {
      "cell_type": "code",
      "source": [
        "batch[0].max()"
      ],
      "metadata": {
        "colab": {
          "base_uri": "https://localhost:8080/"
        },
        "id": "VF-juUYqjY1a",
        "outputId": "d99492e9-7c67-432b-b2e7-4fc14c6f5d1d"
      },
      "execution_count": 99,
      "outputs": [
        {
          "output_type": "execute_result",
          "data": {
            "text/plain": [
              "255.0"
            ]
          },
          "metadata": {},
          "execution_count": 99
        }
      ]
    },
    {
      "cell_type": "code",
      "source": [
        "scaled = batch [0] / 255\n",
        "scaled.min()"
      ],
      "metadata": {
        "colab": {
          "base_uri": "https://localhost:8080/"
        },
        "id": "sLpZcYU8jHJA",
        "outputId": "febbd89c-9623-46f7-de8f-ae1b6294225c"
      },
      "execution_count": 100,
      "outputs": [
        {
          "output_type": "execute_result",
          "data": {
            "text/plain": [
              "0.0"
            ]
          },
          "metadata": {},
          "execution_count": 100
        }
      ]
    },
    {
      "cell_type": "code",
      "source": [
        "dataset = dataset.map(lambda x: x/255)\n"
      ],
      "metadata": {
        "id": "l-Kur_BPkDxK"
      },
      "execution_count": 101,
      "outputs": []
    },
    {
      "cell_type": "code",
      "source": [
        "dataset.as_numpy_iterator().next()"
      ],
      "metadata": {
        "colab": {
          "base_uri": "https://localhost:8080/"
        },
        "id": "78_w7s_1CMkI",
        "outputId": "8bbe8c9d-57e1-41ae-a219-73182865de7e"
      },
      "execution_count": 102,
      "outputs": [
        {
          "output_type": "execute_result",
          "data": {
            "text/plain": [
              "array([[[[0.02352941, 0.03921569, 0.05098039],\n",
              "         [0.02352941, 0.03921569, 0.05098039],\n",
              "         [0.02352941, 0.03921569, 0.05098039],\n",
              "         ...,\n",
              "         [0.01568628, 0.        , 0.        ],\n",
              "         [0.0127451 , 0.        , 0.        ],\n",
              "         [0.01176471, 0.        , 0.        ]],\n",
              "\n",
              "        [[0.02352941, 0.03921569, 0.05098039],\n",
              "         [0.02352941, 0.03921569, 0.05098039],\n",
              "         [0.02352941, 0.03921569, 0.05098039],\n",
              "         ...,\n",
              "         [0.01568628, 0.        , 0.        ],\n",
              "         [0.0127451 , 0.        , 0.        ],\n",
              "         [0.01176471, 0.        , 0.        ]],\n",
              "\n",
              "        [[0.02352941, 0.03921569, 0.05098039],\n",
              "         [0.02352941, 0.03921569, 0.05098039],\n",
              "         [0.02352941, 0.03921569, 0.05098039],\n",
              "         ...,\n",
              "         [0.01568628, 0.        , 0.        ],\n",
              "         [0.0127451 , 0.        , 0.        ],\n",
              "         [0.01176471, 0.        , 0.        ]],\n",
              "\n",
              "        ...,\n",
              "\n",
              "        [[0.00392157, 0.00392157, 0.01176471],\n",
              "         [0.00392157, 0.00392157, 0.01176471],\n",
              "         [0.00392157, 0.00392157, 0.01176471],\n",
              "         ...,\n",
              "         [0.        , 0.        , 0.        ],\n",
              "         [0.        , 0.        , 0.        ],\n",
              "         [0.        , 0.        , 0.        ]],\n",
              "\n",
              "        [[0.00392157, 0.00392157, 0.01176471],\n",
              "         [0.00392157, 0.00392157, 0.01176471],\n",
              "         [0.00392157, 0.00392157, 0.01176471],\n",
              "         ...,\n",
              "         [0.        , 0.        , 0.        ],\n",
              "         [0.        , 0.        , 0.        ],\n",
              "         [0.        , 0.        , 0.        ]],\n",
              "\n",
              "        [[0.00392157, 0.00392157, 0.01176471],\n",
              "         [0.00392157, 0.00392157, 0.01176471],\n",
              "         [0.00392157, 0.00392157, 0.01176471],\n",
              "         ...,\n",
              "         [0.        , 0.        , 0.        ],\n",
              "         [0.        , 0.        , 0.        ],\n",
              "         [0.        , 0.        , 0.        ]]],\n",
              "\n",
              "\n",
              "       [[[0.02254902, 0.03431373, 0.05392157],\n",
              "         [0.0245098 , 0.03627451, 0.05588235],\n",
              "         [0.02745098, 0.03921569, 0.05882353],\n",
              "         ...,\n",
              "         [0.04313726, 0.04313726, 0.04313726],\n",
              "         [0.04313726, 0.04313726, 0.04313726],\n",
              "         [0.04313726, 0.04313726, 0.04313726]],\n",
              "\n",
              "        [[0.02254902, 0.03431373, 0.05392157],\n",
              "         [0.0245098 , 0.03627451, 0.05588235],\n",
              "         [0.02745098, 0.03921569, 0.05882353],\n",
              "         ...,\n",
              "         [0.04313726, 0.04313726, 0.04313726],\n",
              "         [0.04313726, 0.04313726, 0.04313726],\n",
              "         [0.04313726, 0.04313726, 0.04313726]],\n",
              "\n",
              "        [[0.02254902, 0.03431373, 0.05392157],\n",
              "         [0.0245098 , 0.03627451, 0.05588235],\n",
              "         [0.02745098, 0.03921569, 0.05882353],\n",
              "         ...,\n",
              "         [0.04313726, 0.04313726, 0.04313726],\n",
              "         [0.04313726, 0.04313726, 0.04313726],\n",
              "         [0.04313726, 0.04313726, 0.04313726]],\n",
              "\n",
              "        ...,\n",
              "\n",
              "        [[0.03137255, 0.03137255, 0.03921569],\n",
              "         [0.03137255, 0.03137255, 0.03921569],\n",
              "         [0.03137255, 0.03137255, 0.03921569],\n",
              "         ...,\n",
              "         [0.03137255, 0.03137255, 0.03137255],\n",
              "         [0.03137255, 0.03137255, 0.03137255],\n",
              "         [0.03137255, 0.03137255, 0.03137255]],\n",
              "\n",
              "        [[0.03137255, 0.03137255, 0.03921569],\n",
              "         [0.03137255, 0.03137255, 0.03921569],\n",
              "         [0.03137255, 0.03137255, 0.03921569],\n",
              "         ...,\n",
              "         [0.03137255, 0.03137255, 0.03137255],\n",
              "         [0.03137255, 0.03137255, 0.03137255],\n",
              "         [0.03137255, 0.03137255, 0.03137255]],\n",
              "\n",
              "        [[0.03137255, 0.03137255, 0.03921569],\n",
              "         [0.03137255, 0.03137255, 0.03921569],\n",
              "         [0.03137255, 0.03137255, 0.03921569],\n",
              "         ...,\n",
              "         [0.03137255, 0.03137255, 0.03137255],\n",
              "         [0.03137255, 0.03137255, 0.03137255],\n",
              "         [0.03137255, 0.03137255, 0.03137255]]],\n",
              "\n",
              "\n",
              "       [[[0.02352941, 0.00784314, 0.01176471],\n",
              "         [0.02352941, 0.00784314, 0.01176471],\n",
              "         [0.02352941, 0.00784314, 0.01176471],\n",
              "         ...,\n",
              "         [0.01176471, 0.01176471, 0.01960784],\n",
              "         [0.01176471, 0.01176471, 0.01960784],\n",
              "         [0.01176471, 0.01176471, 0.01960784]],\n",
              "\n",
              "        [[0.02352941, 0.00784314, 0.01176471],\n",
              "         [0.02352941, 0.00784314, 0.01176471],\n",
              "         [0.02352941, 0.00784314, 0.01176471],\n",
              "         ...,\n",
              "         [0.01176471, 0.01176471, 0.01960784],\n",
              "         [0.01176471, 0.01176471, 0.01960784],\n",
              "         [0.01176471, 0.01176471, 0.01960784]],\n",
              "\n",
              "        [[0.02352941, 0.00784314, 0.01176471],\n",
              "         [0.02352941, 0.00784314, 0.01176471],\n",
              "         [0.02352941, 0.00784314, 0.01176471],\n",
              "         ...,\n",
              "         [0.01176471, 0.01176471, 0.01960784],\n",
              "         [0.01176471, 0.01176471, 0.01960784],\n",
              "         [0.01176471, 0.01176471, 0.01960784]],\n",
              "\n",
              "        ...,\n",
              "\n",
              "        [[0.02352941, 0.00784314, 0.        ],\n",
              "         [0.02745098, 0.00784314, 0.        ],\n",
              "         [0.03333334, 0.00490196, 0.        ],\n",
              "         ...,\n",
              "         [0.00784314, 0.        , 0.01176471],\n",
              "         [0.00784314, 0.        , 0.01176471],\n",
              "         [0.00784314, 0.        , 0.01176471]],\n",
              "\n",
              "        [[0.02352941, 0.00784314, 0.        ],\n",
              "         [0.02745098, 0.00784314, 0.        ],\n",
              "         [0.03333334, 0.00490196, 0.        ],\n",
              "         ...,\n",
              "         [0.00784314, 0.        , 0.01176471],\n",
              "         [0.00784314, 0.        , 0.01176471],\n",
              "         [0.00784314, 0.        , 0.01176471]],\n",
              "\n",
              "        [[0.02352941, 0.00784314, 0.        ],\n",
              "         [0.02745098, 0.00784314, 0.        ],\n",
              "         [0.03333334, 0.00490196, 0.        ],\n",
              "         ...,\n",
              "         [0.00784314, 0.        , 0.01176471],\n",
              "         [0.00784314, 0.        , 0.01176471],\n",
              "         [0.00784314, 0.        , 0.01176471]]],\n",
              "\n",
              "\n",
              "       ...,\n",
              "\n",
              "\n",
              "       [[[0.52144605, 0.6194853 , 0.6351716 ],\n",
              "         [0.52144605, 0.6194853 , 0.6351716 ],\n",
              "         [0.52144605, 0.6194853 , 0.6351716 ],\n",
              "         ...,\n",
              "         [0.03057598, 0.04234068, 0.        ],\n",
              "         [0.05340074, 0.06516544, 0.        ],\n",
              "         [0.1161152 , 0.1278799 , 0.05364583]],\n",
              "\n",
              "        [[0.5176471 , 0.6156863 , 0.6313726 ],\n",
              "         [0.5176471 , 0.6156863 , 0.6313726 ],\n",
              "         [0.5176471 , 0.6156863 , 0.6313726 ],\n",
              "         ...,\n",
              "         [0.03599877, 0.04767157, 0.        ],\n",
              "         [0.03992034, 0.05140932, 0.00193015],\n",
              "         [0.07285539, 0.08434436, 0.01939338]],\n",
              "\n",
              "        [[0.5182598 , 0.61629903, 0.6319853 ],\n",
              "         [0.5182598 , 0.61629903, 0.6319853 ],\n",
              "         [0.5182598 , 0.61629903, 0.6319853 ],\n",
              "         ...,\n",
              "         [0.03241422, 0.04273897, 0.        ],\n",
              "         [0.07150735, 0.08017769, 0.0265625 ],\n",
              "         [0.12521446, 0.1338848 , 0.07696079]],\n",
              "\n",
              "        ...,\n",
              "\n",
              "        [[0.15897672, 0.17074142, 0.19696692],\n",
              "         [0.18786764, 0.19963235, 0.22781862],\n",
              "         [0.1757353 , 0.18501838, 0.22745098],\n",
              "         ...,\n",
              "         [0.06847426, 0.08023897, 0.09984681],\n",
              "         [0.07156863, 0.08333334, 0.10294118],\n",
              "         [0.04427083, 0.05603554, 0.07564338]],\n",
              "\n",
              "        [[0.1286152 , 0.1403799 , 0.17493872],\n",
              "         [0.16464461, 0.17552084, 0.21292892],\n",
              "         [0.05854779, 0.06648284, 0.11593137],\n",
              "         ...,\n",
              "         [0.05885417, 0.07061888, 0.09022672],\n",
              "         [0.07423407, 0.08599877, 0.10560662],\n",
              "         [0.05211397, 0.06387868, 0.08348652]],\n",
              "\n",
              "        [[0.07230392, 0.08406863, 0.11936274],\n",
              "         [0.11519608, 0.12598039, 0.16421568],\n",
              "         [0.10119485, 0.10903799, 0.15903799],\n",
              "         ...,\n",
              "         [0.04739583, 0.05916054, 0.07876838],\n",
              "         [0.07735907, 0.08912378, 0.10873162],\n",
              "         [0.06433824, 0.07610294, 0.09571078]]],\n",
              "\n",
              "\n",
              "       [[[0.45392156, 0.3480392 , 0.3127451 ],\n",
              "         [0.45588234, 0.35      , 0.31470588],\n",
              "         [0.45882353, 0.3529412 , 0.31764707],\n",
              "         ...,\n",
              "         [0.03529412, 0.03529412, 0.02745098],\n",
              "         [0.03529412, 0.0382353 , 0.02156863],\n",
              "         [0.03529412, 0.03921569, 0.01960784]],\n",
              "\n",
              "        [[0.45392156, 0.3480392 , 0.3127451 ],\n",
              "         [0.45588234, 0.35      , 0.31470588],\n",
              "         [0.45882353, 0.3529412 , 0.31764707],\n",
              "         ...,\n",
              "         [0.03529412, 0.03529412, 0.02745098],\n",
              "         [0.03529412, 0.0382353 , 0.02156863],\n",
              "         [0.03529412, 0.03921569, 0.01960784]],\n",
              "\n",
              "        [[0.45392156, 0.3480392 , 0.3127451 ],\n",
              "         [0.45588234, 0.35      , 0.31470588],\n",
              "         [0.45882353, 0.3529412 , 0.31764707],\n",
              "         ...,\n",
              "         [0.03529412, 0.03529412, 0.02745098],\n",
              "         [0.03529412, 0.0382353 , 0.02156863],\n",
              "         [0.03529412, 0.03921569, 0.01960784]],\n",
              "\n",
              "        ...,\n",
              "\n",
              "        [[0.5176471 , 0.45882353, 0.3764706 ],\n",
              "         [0.52172184, 0.46289828, 0.38054535],\n",
              "         [0.5254902 , 0.46666667, 0.38431373],\n",
              "         ...,\n",
              "         [0.07821691, 0.07821691, 0.07821691],\n",
              "         [0.07218137, 0.07806373, 0.07512255],\n",
              "         [0.06727941, 0.07512255, 0.07120098]],\n",
              "\n",
              "        [[0.5176471 , 0.45882353, 0.3764706 ],\n",
              "         [0.5189032 , 0.46007967, 0.3777267 ],\n",
              "         [0.5246017 , 0.46577817, 0.38342524],\n",
              "         ...,\n",
              "         [0.07389706, 0.07567402, 0.07478554],\n",
              "         [0.06712622, 0.07478554, 0.07095588],\n",
              "         [0.06311274, 0.07095588, 0.06703431]],\n",
              "\n",
              "        [[0.5166973 , 0.45787376, 0.37552083],\n",
              "         [0.51862746, 0.4598039 , 0.37745097],\n",
              "         [0.52166057, 0.462837  , 0.38048407],\n",
              "         ...,\n",
              "         [0.06973039, 0.07169118, 0.07071079],\n",
              "         [0.0638174 , 0.07166054, 0.06773897],\n",
              "         [0.06179534, 0.06963848, 0.06571691]]],\n",
              "\n",
              "\n",
              "       [[[0.        , 0.01176471, 0.00784314],\n",
              "         [0.        , 0.01176471, 0.00784314],\n",
              "         [0.        , 0.01176471, 0.00784314],\n",
              "         ...,\n",
              "         [0.00710784, 0.02279412, 0.03455883],\n",
              "         [0.00119485, 0.01688113, 0.02864583],\n",
              "         [0.00499387, 0.02068015, 0.03244485]],\n",
              "\n",
              "        [[0.        , 0.01176471, 0.00784314],\n",
              "         [0.        , 0.01176471, 0.00784314],\n",
              "         [0.        , 0.01176471, 0.00784314],\n",
              "         ...,\n",
              "         [0.01580882, 0.0314951 , 0.0432598 ],\n",
              "         [0.00867034, 0.02435662, 0.03612132],\n",
              "         [0.00784314, 0.02352941, 0.03529412]],\n",
              "\n",
              "        [[0.        , 0.01176471, 0.00784314],\n",
              "         [0.        , 0.01176471, 0.00784314],\n",
              "         [0.        , 0.01176471, 0.00784314],\n",
              "         ...,\n",
              "         [0.02830882, 0.0439951 , 0.0557598 ],\n",
              "         [0.0185049 , 0.03419118, 0.04595588],\n",
              "         [0.00891544, 0.02460172, 0.03636642]],\n",
              "\n",
              "        ...,\n",
              "\n",
              "        [[0.00392157, 0.00392157, 0.00392157],\n",
              "         [0.00392157, 0.00392157, 0.00392157],\n",
              "         [0.00392157, 0.00392157, 0.00392157],\n",
              "         ...,\n",
              "         [0.01176471, 0.01176471, 0.01176471],\n",
              "         [0.01176471, 0.01176471, 0.01176471],\n",
              "         [0.01176471, 0.01176471, 0.01176471]],\n",
              "\n",
              "        [[0.00392157, 0.00392157, 0.00392157],\n",
              "         [0.00392157, 0.00392157, 0.00392157],\n",
              "         [0.00392157, 0.00392157, 0.00392157],\n",
              "         ...,\n",
              "         [0.01176471, 0.01176471, 0.01176471],\n",
              "         [0.01176471, 0.01176471, 0.01176471],\n",
              "         [0.01176471, 0.01176471, 0.01176471]],\n",
              "\n",
              "        [[0.00392157, 0.00392157, 0.00392157],\n",
              "         [0.00392157, 0.00392157, 0.00392157],\n",
              "         [0.00392157, 0.00392157, 0.00392157],\n",
              "         ...,\n",
              "         [0.01176471, 0.01176471, 0.01176471],\n",
              "         [0.01176471, 0.01176471, 0.01176471],\n",
              "         [0.01176471, 0.01176471, 0.01176471]]]], dtype=float32)"
            ]
          },
          "metadata": {},
          "execution_count": 102
        }
      ]
    },
    {
      "cell_type": "code",
      "source": [
        "len(dataset)"
      ],
      "metadata": {
        "colab": {
          "base_uri": "https://localhost:8080/"
        },
        "id": "Gh9tIkNADBDT",
        "outputId": "eafe21c4-fb51-453b-b6ec-78314516a0fb"
      },
      "execution_count": 103,
      "outputs": [
        {
          "output_type": "execute_result",
          "data": {
            "text/plain": [
              "2"
            ]
          },
          "metadata": {},
          "execution_count": 103
        }
      ]
    },
    {
      "cell_type": "code",
      "source": [
        "train_size = int(len(dataset)*.7)\n",
        "val_size = int(len(dataset)*.2)\n",
        "test_size = int(len(dataset)*.1)+1"
      ],
      "metadata": {
        "id": "QIqZMIVyGG_s"
      },
      "execution_count": 104,
      "outputs": []
    },
    {
      "cell_type": "code",
      "source": [
        "train_size + val_size + test_size"
      ],
      "metadata": {
        "colab": {
          "base_uri": "https://localhost:8080/"
        },
        "id": "ldpS7B5yGnqN",
        "outputId": "259d7f28-8b80-4282-a5a4-d906667a543c"
      },
      "execution_count": 105,
      "outputs": [
        {
          "output_type": "execute_result",
          "data": {
            "text/plain": [
              "2"
            ]
          },
          "metadata": {},
          "execution_count": 105
        }
      ]
    },
    {
      "cell_type": "code",
      "source": [
        "train = dataset.take(train_size)\n",
        "val = dataset.skip(train_size).take(val_size)\n",
        "test = dataset.skip(train_size+val_size).take(test_size)"
      ],
      "metadata": {
        "id": "S0EHwN3nG6fH"
      },
      "execution_count": 106,
      "outputs": []
    },
    {
      "cell_type": "code",
      "source": [
        "len(val)"
      ],
      "metadata": {
        "colab": {
          "base_uri": "https://localhost:8080/"
        },
        "id": "FqsmlxHHHIfv",
        "outputId": "4df23659-f28c-4336-96c6-6652474ee2d8"
      },
      "execution_count": 107,
      "outputs": [
        {
          "output_type": "execute_result",
          "data": {
            "text/plain": [
              "0"
            ]
          },
          "metadata": {},
          "execution_count": 107
        }
      ]
    },
    {
      "cell_type": "code",
      "source": [
        "model = Sequential()"
      ],
      "metadata": {
        "id": "ATUSij-0IB8v"
      },
      "execution_count": 108,
      "outputs": []
    },
    {
      "cell_type": "code",
      "source": [
        "model.add(Conv2D(16,(3,3) ,1, activation='sigmoid', input_shape=(256,256,3)))\n",
        "model.add(MaxPooling2D())\n",
        "\n",
        "model.add(Conv2D(32,(3,3) ,1, activation='sigmoid'))\n",
        "model.add(MaxPooling2D())\n",
        "\n",
        "model.add(Conv2D(16,(3,3) ,1, activation='sigmoid'))\n",
        "model.add(MaxPooling2D())\n",
        "\n",
        "model.add(Flatten())\n",
        "\n",
        "model.add(Dense(256, activation='sigmoid'))\n",
        "model.add(Dense(1, activation='sigmoid'))"
      ],
      "metadata": {
        "id": "TEvMpgJdI6m1"
      },
      "execution_count": 109,
      "outputs": []
    },
    {
      "cell_type": "code",
      "source": [
        "model.compile('adam' , loss=tf.losses.BinaryCrossentropy(), metrics=['accuracy'])"
      ],
      "metadata": {
        "id": "Z5jieBkQJ4n7"
      },
      "execution_count": 110,
      "outputs": []
    },
    {
      "cell_type": "code",
      "source": [
        "model.summary()"
      ],
      "metadata": {
        "colab": {
          "base_uri": "https://localhost:8080/",
          "height": 417
        },
        "id": "jRjPFYNwLWRb",
        "outputId": "bf22a991-c67d-437f-e45f-0fca1c81ff9a"
      },
      "execution_count": 111,
      "outputs": [
        {
          "output_type": "display_data",
          "data": {
            "text/plain": [
              "\u001b[1mModel: \"sequential_3\"\u001b[0m\n"
            ],
            "text/html": [
              "<pre style=\"white-space:pre;overflow-x:auto;line-height:normal;font-family:Menlo,'DejaVu Sans Mono',consolas,'Courier New',monospace\"><span style=\"font-weight: bold\">Model: \"sequential_3\"</span>\n",
              "</pre>\n"
            ]
          },
          "metadata": {}
        },
        {
          "output_type": "display_data",
          "data": {
            "text/plain": [
              "┏━━━━━━━━━━━━━━━━━━━━━━━━━━━━━━━━━━━━━━┳━━━━━━━━━━━━━━━━━━━━━━━━━━━━━┳━━━━━━━━━━━━━━━━━┓\n",
              "┃\u001b[1m \u001b[0m\u001b[1mLayer (type)                        \u001b[0m\u001b[1m \u001b[0m┃\u001b[1m \u001b[0m\u001b[1mOutput Shape               \u001b[0m\u001b[1m \u001b[0m┃\u001b[1m \u001b[0m\u001b[1m        Param #\u001b[0m\u001b[1m \u001b[0m┃\n",
              "┡━━━━━━━━━━━━━━━━━━━━━━━━━━━━━━━━━━━━━━╇━━━━━━━━━━━━━━━━━━━━━━━━━━━━━╇━━━━━━━━━━━━━━━━━┩\n",
              "│ conv2d_16 (\u001b[38;5;33mConv2D\u001b[0m)                   │ (\u001b[38;5;45mNone\u001b[0m, \u001b[38;5;34m254\u001b[0m, \u001b[38;5;34m254\u001b[0m, \u001b[38;5;34m16\u001b[0m)        │             \u001b[38;5;34m448\u001b[0m │\n",
              "├──────────────────────────────────────┼─────────────────────────────┼─────────────────┤\n",
              "│ max_pooling2d_12 (\u001b[38;5;33mMaxPooling2D\u001b[0m)      │ (\u001b[38;5;45mNone\u001b[0m, \u001b[38;5;34m127\u001b[0m, \u001b[38;5;34m127\u001b[0m, \u001b[38;5;34m16\u001b[0m)        │               \u001b[38;5;34m0\u001b[0m │\n",
              "├──────────────────────────────────────┼─────────────────────────────┼─────────────────┤\n",
              "│ conv2d_17 (\u001b[38;5;33mConv2D\u001b[0m)                   │ (\u001b[38;5;45mNone\u001b[0m, \u001b[38;5;34m125\u001b[0m, \u001b[38;5;34m125\u001b[0m, \u001b[38;5;34m32\u001b[0m)        │           \u001b[38;5;34m4,640\u001b[0m │\n",
              "├──────────────────────────────────────┼─────────────────────────────┼─────────────────┤\n",
              "│ max_pooling2d_13 (\u001b[38;5;33mMaxPooling2D\u001b[0m)      │ (\u001b[38;5;45mNone\u001b[0m, \u001b[38;5;34m62\u001b[0m, \u001b[38;5;34m62\u001b[0m, \u001b[38;5;34m32\u001b[0m)          │               \u001b[38;5;34m0\u001b[0m │\n",
              "├──────────────────────────────────────┼─────────────────────────────┼─────────────────┤\n",
              "│ conv2d_18 (\u001b[38;5;33mConv2D\u001b[0m)                   │ (\u001b[38;5;45mNone\u001b[0m, \u001b[38;5;34m60\u001b[0m, \u001b[38;5;34m60\u001b[0m, \u001b[38;5;34m16\u001b[0m)          │           \u001b[38;5;34m4,624\u001b[0m │\n",
              "├──────────────────────────────────────┼─────────────────────────────┼─────────────────┤\n",
              "│ max_pooling2d_14 (\u001b[38;5;33mMaxPooling2D\u001b[0m)      │ (\u001b[38;5;45mNone\u001b[0m, \u001b[38;5;34m30\u001b[0m, \u001b[38;5;34m30\u001b[0m, \u001b[38;5;34m16\u001b[0m)          │               \u001b[38;5;34m0\u001b[0m │\n",
              "├──────────────────────────────────────┼─────────────────────────────┼─────────────────┤\n",
              "│ flatten_3 (\u001b[38;5;33mFlatten\u001b[0m)                  │ (\u001b[38;5;45mNone\u001b[0m, \u001b[38;5;34m14400\u001b[0m)               │               \u001b[38;5;34m0\u001b[0m │\n",
              "├──────────────────────────────────────┼─────────────────────────────┼─────────────────┤\n",
              "│ dense_6 (\u001b[38;5;33mDense\u001b[0m)                      │ (\u001b[38;5;45mNone\u001b[0m, \u001b[38;5;34m256\u001b[0m)                 │       \u001b[38;5;34m3,686,656\u001b[0m │\n",
              "├──────────────────────────────────────┼─────────────────────────────┼─────────────────┤\n",
              "│ dense_7 (\u001b[38;5;33mDense\u001b[0m)                      │ (\u001b[38;5;45mNone\u001b[0m, \u001b[38;5;34m1\u001b[0m)                   │             \u001b[38;5;34m257\u001b[0m │\n",
              "└──────────────────────────────────────┴─────────────────────────────┴─────────────────┘\n"
            ],
            "text/html": [
              "<pre style=\"white-space:pre;overflow-x:auto;line-height:normal;font-family:Menlo,'DejaVu Sans Mono',consolas,'Courier New',monospace\">┏━━━━━━━━━━━━━━━━━━━━━━━━━━━━━━━━━━━━━━┳━━━━━━━━━━━━━━━━━━━━━━━━━━━━━┳━━━━━━━━━━━━━━━━━┓\n",
              "┃<span style=\"font-weight: bold\"> Layer (type)                         </span>┃<span style=\"font-weight: bold\"> Output Shape                </span>┃<span style=\"font-weight: bold\">         Param # </span>┃\n",
              "┡━━━━━━━━━━━━━━━━━━━━━━━━━━━━━━━━━━━━━━╇━━━━━━━━━━━━━━━━━━━━━━━━━━━━━╇━━━━━━━━━━━━━━━━━┩\n",
              "│ conv2d_16 (<span style=\"color: #0087ff; text-decoration-color: #0087ff\">Conv2D</span>)                   │ (<span style=\"color: #00d7ff; text-decoration-color: #00d7ff\">None</span>, <span style=\"color: #00af00; text-decoration-color: #00af00\">254</span>, <span style=\"color: #00af00; text-decoration-color: #00af00\">254</span>, <span style=\"color: #00af00; text-decoration-color: #00af00\">16</span>)        │             <span style=\"color: #00af00; text-decoration-color: #00af00\">448</span> │\n",
              "├──────────────────────────────────────┼─────────────────────────────┼─────────────────┤\n",
              "│ max_pooling2d_12 (<span style=\"color: #0087ff; text-decoration-color: #0087ff\">MaxPooling2D</span>)      │ (<span style=\"color: #00d7ff; text-decoration-color: #00d7ff\">None</span>, <span style=\"color: #00af00; text-decoration-color: #00af00\">127</span>, <span style=\"color: #00af00; text-decoration-color: #00af00\">127</span>, <span style=\"color: #00af00; text-decoration-color: #00af00\">16</span>)        │               <span style=\"color: #00af00; text-decoration-color: #00af00\">0</span> │\n",
              "├──────────────────────────────────────┼─────────────────────────────┼─────────────────┤\n",
              "│ conv2d_17 (<span style=\"color: #0087ff; text-decoration-color: #0087ff\">Conv2D</span>)                   │ (<span style=\"color: #00d7ff; text-decoration-color: #00d7ff\">None</span>, <span style=\"color: #00af00; text-decoration-color: #00af00\">125</span>, <span style=\"color: #00af00; text-decoration-color: #00af00\">125</span>, <span style=\"color: #00af00; text-decoration-color: #00af00\">32</span>)        │           <span style=\"color: #00af00; text-decoration-color: #00af00\">4,640</span> │\n",
              "├──────────────────────────────────────┼─────────────────────────────┼─────────────────┤\n",
              "│ max_pooling2d_13 (<span style=\"color: #0087ff; text-decoration-color: #0087ff\">MaxPooling2D</span>)      │ (<span style=\"color: #00d7ff; text-decoration-color: #00d7ff\">None</span>, <span style=\"color: #00af00; text-decoration-color: #00af00\">62</span>, <span style=\"color: #00af00; text-decoration-color: #00af00\">62</span>, <span style=\"color: #00af00; text-decoration-color: #00af00\">32</span>)          │               <span style=\"color: #00af00; text-decoration-color: #00af00\">0</span> │\n",
              "├──────────────────────────────────────┼─────────────────────────────┼─────────────────┤\n",
              "│ conv2d_18 (<span style=\"color: #0087ff; text-decoration-color: #0087ff\">Conv2D</span>)                   │ (<span style=\"color: #00d7ff; text-decoration-color: #00d7ff\">None</span>, <span style=\"color: #00af00; text-decoration-color: #00af00\">60</span>, <span style=\"color: #00af00; text-decoration-color: #00af00\">60</span>, <span style=\"color: #00af00; text-decoration-color: #00af00\">16</span>)          │           <span style=\"color: #00af00; text-decoration-color: #00af00\">4,624</span> │\n",
              "├──────────────────────────────────────┼─────────────────────────────┼─────────────────┤\n",
              "│ max_pooling2d_14 (<span style=\"color: #0087ff; text-decoration-color: #0087ff\">MaxPooling2D</span>)      │ (<span style=\"color: #00d7ff; text-decoration-color: #00d7ff\">None</span>, <span style=\"color: #00af00; text-decoration-color: #00af00\">30</span>, <span style=\"color: #00af00; text-decoration-color: #00af00\">30</span>, <span style=\"color: #00af00; text-decoration-color: #00af00\">16</span>)          │               <span style=\"color: #00af00; text-decoration-color: #00af00\">0</span> │\n",
              "├──────────────────────────────────────┼─────────────────────────────┼─────────────────┤\n",
              "│ flatten_3 (<span style=\"color: #0087ff; text-decoration-color: #0087ff\">Flatten</span>)                  │ (<span style=\"color: #00d7ff; text-decoration-color: #00d7ff\">None</span>, <span style=\"color: #00af00; text-decoration-color: #00af00\">14400</span>)               │               <span style=\"color: #00af00; text-decoration-color: #00af00\">0</span> │\n",
              "├──────────────────────────────────────┼─────────────────────────────┼─────────────────┤\n",
              "│ dense_6 (<span style=\"color: #0087ff; text-decoration-color: #0087ff\">Dense</span>)                      │ (<span style=\"color: #00d7ff; text-decoration-color: #00d7ff\">None</span>, <span style=\"color: #00af00; text-decoration-color: #00af00\">256</span>)                 │       <span style=\"color: #00af00; text-decoration-color: #00af00\">3,686,656</span> │\n",
              "├──────────────────────────────────────┼─────────────────────────────┼─────────────────┤\n",
              "│ dense_7 (<span style=\"color: #0087ff; text-decoration-color: #0087ff\">Dense</span>)                      │ (<span style=\"color: #00d7ff; text-decoration-color: #00d7ff\">None</span>, <span style=\"color: #00af00; text-decoration-color: #00af00\">1</span>)                   │             <span style=\"color: #00af00; text-decoration-color: #00af00\">257</span> │\n",
              "└──────────────────────────────────────┴─────────────────────────────┴─────────────────┘\n",
              "</pre>\n"
            ]
          },
          "metadata": {}
        },
        {
          "output_type": "display_data",
          "data": {
            "text/plain": [
              "\u001b[1m Total params: \u001b[0m\u001b[38;5;34m3,696,625\u001b[0m (14.10 MB)\n"
            ],
            "text/html": [
              "<pre style=\"white-space:pre;overflow-x:auto;line-height:normal;font-family:Menlo,'DejaVu Sans Mono',consolas,'Courier New',monospace\"><span style=\"font-weight: bold\"> Total params: </span><span style=\"color: #00af00; text-decoration-color: #00af00\">3,696,625</span> (14.10 MB)\n",
              "</pre>\n"
            ]
          },
          "metadata": {}
        },
        {
          "output_type": "display_data",
          "data": {
            "text/plain": [
              "\u001b[1m Trainable params: \u001b[0m\u001b[38;5;34m3,696,625\u001b[0m (14.10 MB)\n"
            ],
            "text/html": [
              "<pre style=\"white-space:pre;overflow-x:auto;line-height:normal;font-family:Menlo,'DejaVu Sans Mono',consolas,'Courier New',monospace\"><span style=\"font-weight: bold\"> Trainable params: </span><span style=\"color: #00af00; text-decoration-color: #00af00\">3,696,625</span> (14.10 MB)\n",
              "</pre>\n"
            ]
          },
          "metadata": {}
        },
        {
          "output_type": "display_data",
          "data": {
            "text/plain": [
              "\u001b[1m Non-trainable params: \u001b[0m\u001b[38;5;34m0\u001b[0m (0.00 B)\n"
            ],
            "text/html": [
              "<pre style=\"white-space:pre;overflow-x:auto;line-height:normal;font-family:Menlo,'DejaVu Sans Mono',consolas,'Courier New',monospace\"><span style=\"font-weight: bold\"> Non-trainable params: </span><span style=\"color: #00af00; text-decoration-color: #00af00\">0</span> (0.00 B)\n",
              "</pre>\n"
            ]
          },
          "metadata": {}
        }
      ]
    },
    {
      "cell_type": "code",
      "source": [
        "logdir = 'logs'\n"
      ],
      "metadata": {
        "id": "KZMp0JOEMOtn"
      },
      "execution_count": 112,
      "outputs": []
    },
    {
      "cell_type": "code",
      "source": [
        "tensorboard_callback = tf.keras.callbacks.TensorBoard(log_dir = logdir)"
      ],
      "metadata": {
        "id": "w33gl5kxMVca"
      },
      "execution_count": 113,
      "outputs": []
    },
    {
      "cell_type": "code",
      "source": [
        "hist = model.fit(train, epochs=10, validation_data=val, callbacks=[tensorboard_callback])"
      ],
      "metadata": {
        "colab": {
          "base_uri": "https://localhost:8080/",
          "height": 298
        },
        "id": "SK4u9NyUNlFH",
        "outputId": "e1141d0c-069c-4daf-8475-ef9f4135bb2e"
      },
      "execution_count": 114,
      "outputs": [
        {
          "output_type": "error",
          "ename": "ValueError",
          "evalue": "None values not supported.",
          "traceback": [
            "\u001b[0;31m---------------------------------------------------------------------------\u001b[0m",
            "\u001b[0;31mValueError\u001b[0m                                Traceback (most recent call last)",
            "\u001b[0;32m<ipython-input-114-d24395c9a546>\u001b[0m in \u001b[0;36m<cell line: 1>\u001b[0;34m()\u001b[0m\n\u001b[0;32m----> 1\u001b[0;31m \u001b[0mhist\u001b[0m \u001b[0;34m=\u001b[0m \u001b[0mmodel\u001b[0m\u001b[0;34m.\u001b[0m\u001b[0mfit\u001b[0m\u001b[0;34m(\u001b[0m\u001b[0mtrain\u001b[0m\u001b[0;34m,\u001b[0m \u001b[0mepochs\u001b[0m\u001b[0;34m=\u001b[0m\u001b[0;36m1\u001b[0m\u001b[0;34m,\u001b[0m \u001b[0mvalidation_data\u001b[0m\u001b[0;34m=\u001b[0m\u001b[0mval\u001b[0m\u001b[0;34m,\u001b[0m \u001b[0mcallbacks\u001b[0m\u001b[0;34m=\u001b[0m\u001b[0;34m[\u001b[0m\u001b[0mtensorboard_callback\u001b[0m\u001b[0;34m]\u001b[0m\u001b[0;34m)\u001b[0m\u001b[0;34m\u001b[0m\u001b[0;34m\u001b[0m\u001b[0m\n\u001b[0m",
            "\u001b[0;32m/usr/local/lib/python3.10/dist-packages/keras/src/utils/traceback_utils.py\u001b[0m in \u001b[0;36merror_handler\u001b[0;34m(*args, **kwargs)\u001b[0m\n\u001b[1;32m    120\u001b[0m             \u001b[0;31m# To get the full stack trace, call:\u001b[0m\u001b[0;34m\u001b[0m\u001b[0;34m\u001b[0m\u001b[0m\n\u001b[1;32m    121\u001b[0m             \u001b[0;31m# `keras.config.disable_traceback_filtering()`\u001b[0m\u001b[0;34m\u001b[0m\u001b[0;34m\u001b[0m\u001b[0m\n\u001b[0;32m--> 122\u001b[0;31m             \u001b[0;32mraise\u001b[0m \u001b[0me\u001b[0m\u001b[0;34m.\u001b[0m\u001b[0mwith_traceback\u001b[0m\u001b[0;34m(\u001b[0m\u001b[0mfiltered_tb\u001b[0m\u001b[0;34m)\u001b[0m \u001b[0;32mfrom\u001b[0m \u001b[0;32mNone\u001b[0m\u001b[0;34m\u001b[0m\u001b[0;34m\u001b[0m\u001b[0m\n\u001b[0m\u001b[1;32m    123\u001b[0m         \u001b[0;32mfinally\u001b[0m\u001b[0;34m:\u001b[0m\u001b[0;34m\u001b[0m\u001b[0;34m\u001b[0m\u001b[0m\n\u001b[1;32m    124\u001b[0m             \u001b[0;32mdel\u001b[0m \u001b[0mfiltered_tb\u001b[0m\u001b[0;34m\u001b[0m\u001b[0;34m\u001b[0m\u001b[0m\n",
            "\u001b[0;32m/usr/local/lib/python3.10/dist-packages/optree/ops.py\u001b[0m in \u001b[0;36mtree_map\u001b[0;34m(func, tree, is_leaf, none_is_leaf, namespace, *rests)\u001b[0m\n\u001b[1;32m    750\u001b[0m     \u001b[0mleaves\u001b[0m\u001b[0;34m,\u001b[0m \u001b[0mtreespec\u001b[0m \u001b[0;34m=\u001b[0m \u001b[0m_C\u001b[0m\u001b[0;34m.\u001b[0m\u001b[0mflatten\u001b[0m\u001b[0;34m(\u001b[0m\u001b[0mtree\u001b[0m\u001b[0;34m,\u001b[0m \u001b[0mis_leaf\u001b[0m\u001b[0;34m,\u001b[0m \u001b[0mnone_is_leaf\u001b[0m\u001b[0;34m,\u001b[0m \u001b[0mnamespace\u001b[0m\u001b[0;34m)\u001b[0m\u001b[0;34m\u001b[0m\u001b[0;34m\u001b[0m\u001b[0m\n\u001b[1;32m    751\u001b[0m     \u001b[0mflat_args\u001b[0m \u001b[0;34m=\u001b[0m \u001b[0;34m[\u001b[0m\u001b[0mleaves\u001b[0m\u001b[0;34m]\u001b[0m \u001b[0;34m+\u001b[0m \u001b[0;34m[\u001b[0m\u001b[0mtreespec\u001b[0m\u001b[0;34m.\u001b[0m\u001b[0mflatten_up_to\u001b[0m\u001b[0;34m(\u001b[0m\u001b[0mr\u001b[0m\u001b[0;34m)\u001b[0m \u001b[0;32mfor\u001b[0m \u001b[0mr\u001b[0m \u001b[0;32min\u001b[0m \u001b[0mrests\u001b[0m\u001b[0;34m]\u001b[0m\u001b[0;34m\u001b[0m\u001b[0;34m\u001b[0m\u001b[0m\n\u001b[0;32m--> 752\u001b[0;31m     \u001b[0;32mreturn\u001b[0m \u001b[0mtreespec\u001b[0m\u001b[0;34m.\u001b[0m\u001b[0munflatten\u001b[0m\u001b[0;34m(\u001b[0m\u001b[0mmap\u001b[0m\u001b[0;34m(\u001b[0m\u001b[0mfunc\u001b[0m\u001b[0;34m,\u001b[0m \u001b[0;34m*\u001b[0m\u001b[0mflat_args\u001b[0m\u001b[0;34m)\u001b[0m\u001b[0;34m)\u001b[0m\u001b[0;34m\u001b[0m\u001b[0;34m\u001b[0m\u001b[0m\n\u001b[0m\u001b[1;32m    753\u001b[0m \u001b[0;34m\u001b[0m\u001b[0m\n\u001b[1;32m    754\u001b[0m \u001b[0;34m\u001b[0m\u001b[0m\n",
            "\u001b[0;31mValueError\u001b[0m: None values not supported."
          ]
        }
      ]
    }
  ]
}
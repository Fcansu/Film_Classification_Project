{
  "nbformat": 4,
  "nbformat_minor": 0,
  "metadata": {
    "colab": {
      "provenance": [],
      "authorship_tag": "ABX9TyM+pHIZtQjejKWHptmCKsdd",
      "include_colab_link": true
    },
    "kernelspec": {
      "name": "python3",
      "display_name": "Python 3"
    },
    "language_info": {
      "name": "python"
    }
  },
  "cells": [
    {
      "cell_type": "markdown",
      "metadata": {
        "id": "view-in-github",
        "colab_type": "text"
      },
      "source": [
        "<a href=\"https://colab.research.google.com/github/Fcansu/Film_Classification_Project/blob/main/video_downloader.ipynb\" target=\"_parent\"><img src=\"https://colab.research.google.com/assets/colab-badge.svg\" alt=\"Open In Colab\"/></a>"
      ]
    },
    {
      "cell_type": "code",
      "source": [
        "pip install pytubefix"
      ],
      "metadata": {
        "colab": {
          "base_uri": "https://localhost:8080/"
        },
        "id": "cqArdVnniKXg",
        "outputId": "dcf0cb93-4427-4e8d-a1aa-2aea81ba3616"
      },
      "execution_count": null,
      "outputs": [
        {
          "output_type": "stream",
          "name": "stdout",
          "text": [
            "Requirement already satisfied: pytubefix in /usr/local/lib/python3.10/dist-packages (8.8.1)\n"
          ]
        }
      ]
    },
    {
      "cell_type": "code",
      "source": [
        "from pytubefix import YouTube\n",
        "from pytubefix.cli import on_progress\n",
        "\n",
        "url = \"https://youtu.be/pq6mvHZU0fc\"\n",
        "\n",
        "yt = YouTube(url, on_progress_callback=on_progress)\n",
        "print(yt.title)\n",
        "\n",
        "ys = yt.streams.get_highest_resolution()\n",
        "ys.download()"
      ],
      "metadata": {
        "colab": {
          "base_uri": "https://localhost:8080/",
          "height": 53
        },
        "id": "UICv_6yMiMzu",
        "outputId": "a24626c9-958b-40d8-a78f-44d95004ce40"
      },
      "execution_count": 67,
      "outputs": [
        {
          "output_type": "stream",
          "name": "stdout",
          "text": [
            "Megalopolis (2024) Official Trailer - Adam Driver, Giancarlo Esposito, Nathalie Emmanuel\n"
          ]
        },
        {
          "output_type": "execute_result",
          "data": {
            "text/plain": [
              "'/content/Megalopolis (2024) Official Trailer - Adam Driver, Giancarlo Esposito, Nathalie Emmanuel.mp4'"
            ],
            "application/vnd.google.colaboratory.intrinsic+json": {
              "type": "string"
            }
          },
          "metadata": {},
          "execution_count": 67
        }
      ]
    },
    {
      "cell_type": "code",
      "source": [],
      "metadata": {
        "id": "pwRo006hjH62"
      },
      "execution_count": null,
      "outputs": []
    }
  ]
}